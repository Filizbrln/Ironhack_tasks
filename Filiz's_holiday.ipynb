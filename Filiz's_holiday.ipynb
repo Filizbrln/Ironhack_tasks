{
 "cells": [
  {
   "cell_type": "markdown",
   "metadata": {},
   "source": [
    "<a id=\"title\"> </a>\n",
    "# Holiday"
   ]
  },
  {
   "cell_type": "markdown",
   "metadata": {},
   "source": [
    "<a id=\"abstract\"> </a>\n",
    "## Abstract "
   ]
  },
  {
   "cell_type": "markdown",
   "metadata": {},
   "source": [
    "#### In this notebook, I will introduce someone and her/his holidays preference with a picture and a link to a youtube video of this holiday preference. "
   ]
  },
  {
   "cell_type": "markdown",
   "metadata": {},
   "source": [
    "<a id='intro'></a>\n",
    "## Let's introduce ourselves"
   ]
  },
  {
   "cell_type": "code",
   "execution_count": 1,
   "metadata": {},
   "outputs": [
    {
     "name": "stdin",
     "output_type": "stream",
     "text": [
      "My name is :  Filiz\n"
     ]
    }
   ],
   "source": [
    "def name():\n",
    "    name_input = input(\"My name is : \")\n",
    "name()"
   ]
  },
  {
   "cell_type": "markdown",
   "metadata": {},
   "source": [
    "![alt text](flz.jpg)"
   ]
  },
  {
   "cell_type": "markdown",
   "metadata": {},
   "source": [
    "<a id='general_info'></a>\n",
    "## General Information about holiday"
   ]
  },
  {
   "cell_type": "markdown",
   "metadata": {},
   "source": [
    "[Hawaii](http://cdn.cnn.com/cnnnext/dam/assets/201230100452-10-2021-travel-destinations-hawaii.jpg) is one of the places that I have preferred and loved for a holiday many times. By clicking on the hyperlink, you can see a beautiful square that I discovered on this holiday."
   ]
  },
  {
   "cell_type": "markdown",
   "metadata": {},
   "source": [
    "<a id='requirements'></a>\n",
    "## Most important requirements for holiday"
   ]
  },
  {
   "cell_type": "code",
   "execution_count": 2,
   "metadata": {},
   "outputs": [
    {
     "name": "stdin",
     "output_type": "stream",
     "text": [
      "Type your to do list for holiday (type Q for quitting) :  swimming\n",
      "Type your to do list for holiday (type Q for quitting) :  surfing\n",
      "Type your to do list for holiday (type Q for quitting) :  party\n"
     ]
    },
    {
     "data": {
      "text/plain": [
       "['swimming', 'surfing', 'party']"
      ]
     },
     "execution_count": 2,
     "metadata": {},
     "output_type": "execute_result"
    }
   ],
   "source": [
    "def holiday():\n",
    "    condition  = True # condition variable to ask a question, the program terminates as soon as the condition is false\n",
    "    to_dos = list() # to do list\n",
    "    counter = 0 # The program ends when the counter that we keep to count the things to be done becomes 3\n",
    "    while(condition and counter != 3): # If the condition is still work and the to-do number has not exceeded 3, keep asking questions.\n",
    "        to_do = input(\"Type your to do list for holiday (type Q for quitting) : \") #Question text\n",
    "        if to_do.upper() == 'Q': #terminate program if input received is 'q' or 'Q'\n",
    "            condition = False\n",
    "        else:\n",
    "            to_dos.append(to_do) #add the answer to the list\n",
    "            counter += 1\n",
    "    return to_dos # stop list\n",
    "holiday()"
   ]
  },
  {
   "cell_type": "markdown",
   "metadata": {},
   "source": [
    "<a id=\"vlog\"></a>\n",
    "## My vlog about Hawaii"
   ]
  },
  {
   "cell_type": "markdown",
   "metadata": {},
   "source": [
    "*You can find out more about Hawaii in this Youtube [video](https://www.youtube.com/watch?v=MrDaRCNy3l4).*"
   ]
  },
  {
   "cell_type": "markdown",
   "metadata": {},
   "source": [
    "<a id=\"contents\"></a>\n",
    "### Links to related contents\n",
    "\n",
    "[Title](#title)\n",
    "\n",
    "[Abstract](#abstract)\n",
    "\n",
    "[Introduction](#intro)\n",
    "\n",
    "[General Information](#general_info)\n",
    "\n",
    "[Survey](#requirements) for great holiday\n",
    "\n",
    "[Vlog](#vlog)\n",
    "\n",
    "[Table of contents](#contents)"
   ]
  }
 ],
 "metadata": {
  "kernelspec": {
   "display_name": "Python 3",
   "language": "python",
   "name": "python3"
  },
  "language_info": {
   "codemirror_mode": {
    "name": "ipython",
    "version": 3
   },
   "file_extension": ".py",
   "mimetype": "text/x-python",
   "name": "python",
   "nbconvert_exporter": "python",
   "pygments_lexer": "ipython3",
   "version": "3.8.5"
  }
 },
 "nbformat": 4,
 "nbformat_minor": 4
}
